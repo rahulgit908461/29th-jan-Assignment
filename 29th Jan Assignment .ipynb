{
 "cells": [
  {
   "cell_type": "code",
   "execution_count": 1,
   "id": "da0cac9a-1c1a-4a83-9b3e-a3a6921be72b",
   "metadata": {},
   "outputs": [],
   "source": [
    "#Q1 Who is devlop python Programing Language?\n"
   ]
  },
  {
   "cell_type": "code",
   "execution_count": 2,
   "id": "8f7f9c6a-af1f-4f98-87ae-4d02eb45c6e5",
   "metadata": {},
   "outputs": [],
   "source": [
    "#Ans Guido van Rossum"
   ]
  },
  {
   "cell_type": "code",
   "execution_count": 3,
   "id": "fc32225e-6870-41a6-a802-d37efae93e8d",
   "metadata": {},
   "outputs": [],
   "source": [
    "#Q2. Which type of Programing does Python support"
   ]
  },
  {
   "cell_type": "code",
   "execution_count": 4,
   "id": "03a6d90f-d78a-4638-aa67-72a821cdb7bd",
   "metadata": {},
   "outputs": [],
   "source": [
    "#AObject- oriented programing and structured programming are  fully support"
   ]
  },
  {
   "cell_type": "code",
   "execution_count": 5,
   "id": "b5452ecc-dcb6-4c41-87d0-03c65ba1ac26",
   "metadata": {},
   "outputs": [],
   "source": [
    "# Q4\n",
    "#ans Yes , Pythone is a case -sensitive programming language."
   ]
  },
  {
   "cell_type": "code",
   "execution_count": 6,
   "id": "11da69b8-a06c-4828-870e-151de56b1369",
   "metadata": {},
   "outputs": [],
   "source": [
    "#Q5\n",
    "#Ans yes paython code is an interpreated language"
   ]
  },
  {
   "cell_type": "code",
   "execution_count": 7,
   "id": "f97d80c0-c3d9-4563-a87e-891f6bc0b254",
   "metadata": {},
   "outputs": [],
   "source": [
    "#Q6\n",
    "#ans The Following blocks : a module, a function body , and a class definition.\n",
    "#Each commoned typed interactively is a block."
   ]
  },
  {
   "cell_type": "code",
   "execution_count": 8,
   "id": "1501efae-fc9d-4ef7-b6d6-0ee64c445e0c",
   "metadata": {},
   "outputs": [],
   "source": [
    "#Q7\n",
    "#Ans Hash Symbol # to write a single -line comment"
   ]
  },
  {
   "cell_type": "code",
   "execution_count": 9,
   "id": "0a77e49f-d7d6-44c4-b6db-6bb3a75d652d",
   "metadata": {},
   "outputs": [],
   "source": [
    "#Q8\n",
    "#Ans sys.version can help us to find the version of python that we are currently working on."
   ]
  },
  {
   "cell_type": "code",
   "execution_count": 10,
   "id": "631204a7-6521-4ca3-ab80-1d4fafba5484",
   "metadata": {},
   "outputs": [],
   "source": [
    "#Q9\n",
    "#Ans Python dupports the creation of anonymous functions i.e fun thet are not bound to a name at running , using a \n",
    "#construct called lambda."
   ]
  },
  {
   "cell_type": "code",
   "execution_count": 11,
   "id": "02492df3-942a-46fc-bd84-ce73aa4a9e53",
   "metadata": {},
   "outputs": [],
   "source": [
    "#Q10 What does pip stand for python\n",
    "#Ans pip Install Packages today the standard tool for installing Python"
   ]
  },
  {
   "cell_type": "code",
   "execution_count": 12,
   "id": "085d634f-6a2d-419d-8cf1-0a5e789587f2",
   "metadata": {},
   "outputs": [],
   "source": [
    "#Q11\n",
    "#Ans Bool , Sum , DICT , Enumerate ,Float , List , Type , Dir , Max ,Any , Len Min ,STR"
   ]
  },
  {
   "cell_type": "code",
   "execution_count": 13,
   "id": "77ab1bd9-4aae-40bc-8ce0-10a35d9079b6",
   "metadata": {},
   "outputs": [],
   "source": [
    "#Q12\n",
    "#Ans 79 Characters in Python. "
   ]
  },
  {
   "cell_type": "code",
   "execution_count": 15,
   "id": "5457fd78-cc7a-4efb-8a58-9900968bd1d4",
   "metadata": {},
   "outputs": [],
   "source": [
    "#Q13\n",
    "#Ans a. Python is the second highest paid computer language ,according to indeed\n",
    "# b. Ease of comprehension. it is easy to learn and fun to use\n",
    "# C. Flexibility \n",
    "# d. Use in Many induestries"
   ]
  },
  {
   "cell_type": "code",
   "execution_count": 16,
   "id": "48f0c0be-8032-4999-83e9-82722a30f8c4",
   "metadata": {},
   "outputs": [],
   "source": [
    "#Q14\n",
    "#ans Memory management in Python involves the management of a private heap. a private heap is \n",
    "#a portion of memory that is exclusive to the python process."
   ]
  },
  {
   "cell_type": "code",
   "execution_count": 17,
   "id": "e923f5f6-5734-4207-9204-0d5b26acc110",
   "metadata": {},
   "outputs": [],
   "source": [
    "#Q15\n",
    "#Ans a. Right -clicking this PC and going to properties \n",
    "# b. Clicking on the advance system setting in the menu on the left.\n",
    "# c. Clicking on the Environment Variables button on the bottom right.\n",
    "# d. In the System Vari system selection the path variable and clicking on edit. the next screen \n",
    "# will show all the directories that are currently a part of the PATH Variable.\n",
    "# e. Clicking on new and entering Pythons install directory."
   ]
  },
  {
   "cell_type": "code",
   "execution_count": 18,
   "id": "f727cbf8-b341-46f2-818f-5a36aab788f0",
   "metadata": {},
   "outputs": [],
   "source": [
    "#Q16 \n",
    "# Ans Indentation is important to Python"
   ]
  },
  {
   "cell_type": "code",
   "execution_count": null,
   "id": "6460d75c-a901-4902-9a2b-2af6d5797f8a",
   "metadata": {},
   "outputs": [],
   "source": []
  }
 ],
 "metadata": {
  "kernelspec": {
   "display_name": "Python 3 (ipykernel)",
   "language": "python",
   "name": "python3"
  },
  "language_info": {
   "codemirror_mode": {
    "name": "ipython",
    "version": 3
   },
   "file_extension": ".py",
   "mimetype": "text/x-python",
   "name": "python",
   "nbconvert_exporter": "python",
   "pygments_lexer": "ipython3",
   "version": "3.10.8"
  }
 },
 "nbformat": 4,
 "nbformat_minor": 5
}
